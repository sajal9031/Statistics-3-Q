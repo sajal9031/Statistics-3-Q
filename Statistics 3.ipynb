{
 "cells": [
  {
   "cell_type": "markdown",
   "id": "7f57691e-15d2-4964-842b-4f2bd4edf47f",
   "metadata": {},
   "source": [
    "1. What is the Probability density function?"
   ]
  },
  {
   "cell_type": "markdown",
   "id": "35f18b89-00a3-4ea2-a4cf-90c3bfd8b60b",
   "metadata": {},
   "source": [
    "A probability density function (PDF) is a function that describes the probability distribution of a continuous random variable. The PDF represents the relative likelihood of the values that the random variable can take. It is defined as the derivative of the cumulative distribution function (CDF) with respect to the variable.\n",
    "\n",
    "In other words, the PDF is a function that assigns a probability density to each possible outcome of a random variable. The area under the PDF curve between any two points on the x-axis represents the probability of the random variable taking a value between those two points.\n",
    "\n",
    "The PDF is an essential concept in statistics and probability theory, as it provides a mathematical way of describing the likelihood of continuous random variables. Examples of continuous random variables include the height of individuals in a population, the time it takes for a car to complete a race, or the amount of rainfall in a given region."
   ]
  },
  {
   "cell_type": "code",
   "execution_count": null,
   "id": "75a36bbc-9a83-4385-b7c6-d8fe58021eab",
   "metadata": {},
   "outputs": [],
   "source": []
  },
  {
   "cell_type": "markdown",
   "id": "226dcf34-9946-4862-820b-a4808e4b4b49",
   "metadata": {},
   "source": [
    "2. What are the types of Probability distribution?"
   ]
  },
  {
   "cell_type": "markdown",
   "id": "d46d527f-c80b-41eb-aa6f-9b2383afab26",
   "metadata": {},
   "source": [
    "There are several types of probability distributions, but two main categories are discrete probability distributions and continuous probability distributions.\n",
    "\n",
    "Discrete Probability Distributions:\n",
    "\n",
    "Bernoulli distribution: A Bernoulli distribution is a probability distribution of a random variable that takes only two values, usually 0 and 1, where 0 represents failure, and 1 represents success. It is used to model a single trial of a binary experiment.\n",
    "\n",
    "Binomial distribution: A binomial distribution is a probability distribution of a random variable that represents the number of successes in a fixed number of independent trials, where each trial has only two possible outcomes, success or failure. It is used to model repeated trials of a binary experiment.\n",
    "\n",
    "Poisson distribution: A Poisson distribution is a probability distribution of a random variable that represents the number of times an event occurs in a fixed interval of time or space, given the average rate of occurrence. It is used to model rare events that occur independently of each other.\n",
    "\n",
    "Continuous Probability Distributions:\n",
    "\n",
    "Normal distribution: A normal distribution is a probability distribution of a continuous random variable that has a bell-shaped curve. It is used to model a large number of real-world phenomena, such as heights, weights, and IQ scores.\n",
    "\n",
    "Uniform distribution: A uniform distribution is a probability distribution of a continuous random variable that is equally likely to take any value within a specific range. It is used to model situations where all values within a range are equally likely to occur.\n",
    "\n",
    "Exponential distribution: An exponential distribution is a probability distribution of a continuous random variable that represents the time between events occurring in a Poisson process. It is used to model the time between events occurring in a process that has a constant rate of occurrence."
   ]
  },
  {
   "cell_type": "code",
   "execution_count": null,
   "id": "e97dc443-b74a-4e2a-a51a-412af8952ea3",
   "metadata": {},
   "outputs": [],
   "source": []
  },
  {
   "cell_type": "markdown",
   "id": "5ebf2770-d425-4a09-9c6a-cbd8e7a8e07b",
   "metadata": {},
   "source": [
    "3. Write a Python function to calculate the probability density function of a normal distribution with\n",
    "given mean and standard deviation at a given point."
   ]
  },
  {
   "cell_type": "code",
   "execution_count": 1,
   "id": "b8419f1c-ce2c-4599-a7f4-fd78cfce3c73",
   "metadata": {},
   "outputs": [],
   "source": [
    "import math\n",
    "\n",
    "def normal_pdf(x, mean, std_dev):\n",
    "    \"\"\"\n",
    "    Calculates the probability density function (PDF) of a normal distribution at a given point.\n",
    "\n",
    "    :param x: The point at which to evaluate the PDF.\n",
    "    :param mean: The mean of the normal distribution.\n",
    "    :param std_dev: The standard deviation of the normal distribution.\n",
    "    :return: The PDF of the normal distribution at the given point.\n",
    "    \"\"\"\n",
    "    exponent = -((x - mean) ** 2) / (2 * (std_dev ** 2))\n",
    "    coefficient = 1 / (std_dev * math.sqrt(2 * math.pi))\n",
    "    return coefficient * math.exp(exponent)"
   ]
  },
  {
   "cell_type": "code",
   "execution_count": 2,
   "id": "a10fb40a-fd9c-4060-af7e-ca2731ba949c",
   "metadata": {},
   "outputs": [
    {
     "name": "stdout",
     "output_type": "stream",
     "text": [
      "0.12951759566589174\n"
     ]
    }
   ],
   "source": [
    "mean = 0\n",
    "std_dev = 1\n",
    "x = 1.5\n",
    "pdf = normal_pdf(x, mean, std_dev)\n",
    "print(pdf)"
   ]
  },
  {
   "cell_type": "code",
   "execution_count": null,
   "id": "0160ae24-c63b-4dae-be89-85af808fdeec",
   "metadata": {},
   "outputs": [],
   "source": []
  },
  {
   "cell_type": "markdown",
   "id": "5f31b831-b384-4639-a464-6c35f2ccd8de",
   "metadata": {},
   "source": [
    "4. What are the properties of Binomial distribution? Give two examples of events where binomial\n",
    "distribution can be applied."
   ]
  },
  {
   "cell_type": "markdown",
   "id": "67e612c8-dcd5-436c-8507-baa635a8f1a7",
   "metadata": {},
   "source": [
    "The binomial distribution has several properties, including:\n",
    "\n",
    "The binomial distribution models the number of successes in a fixed number of independent trials, where each trial has only two possible outcomes (success or failure).\n",
    "The trials are assumed to be identical and independent of each other.\n",
    "The probability of success, denoted by p, is constant for each trial.\n",
    "The number of trials, denoted by n, is fixed and known in advance.\n",
    "The random variable representing the number of successes follows a discrete probability distribution.\n",
    "The mean of the binomial distribution is np, and the variance is np(1-p).\n",
    "Two examples of events where the binomial distribution can be applied are:\n",
    "\n",
    "A company is interested in estimating the proportion of customers who will buy a new product based on a sample of 100 customers. They can use the binomial distribution to model the number of customers who will buy the product, assuming that each customer has a fixed probability of buying the product.\n",
    "\n",
    "A hospital wants to know the proportion of patients who will develop a certain complication after surgery. They can use the binomial distribution to model the number of patients who develop the complication, assuming that each patient has a fixed probability of developing the complication, and that the patients are independent of each other."
   ]
  },
  {
   "cell_type": "code",
   "execution_count": null,
   "id": "9fa44cef-b420-4ae9-9443-afd0bab99d29",
   "metadata": {},
   "outputs": [],
   "source": []
  },
  {
   "cell_type": "markdown",
   "id": "ad348c78-4929-45cd-bb72-30f2d976c772",
   "metadata": {},
   "source": [
    "5. Generate a random sample of size 1000 from a binomial distribution with probability of success 0.4\n",
    "and plot a histogram of the results using matplotlib."
   ]
  },
  {
   "cell_type": "code",
   "execution_count": 3,
   "id": "b2ebe93b-96b2-4377-9b0e-83b41bc42c32",
   "metadata": {},
   "outputs": [],
   "source": [
    "import numpy as np\n",
    "\n",
    "n = 1000\n",
    "p = 0.4\n",
    "\n",
    "binomial_sample = np.random.binomial(n, p, size=1000)"
   ]
  },
  {
   "cell_type": "code",
   "execution_count": 4,
   "id": "b0e7f6d8-d213-444c-b468-719f522e52c9",
   "metadata": {},
   "outputs": [
    {
     "data": {
      "image/png": "[encoded data removed]",
      "text/plain": [
       "<Figure size 640x480 with 1 Axes>"
      ]
     },
     "metadata": {},
     "output_type": "display_data"
    }
   ],
   "source": [
    "import matplotlib.pyplot as plt\n",
    "\n",
    "plt.hist(binomial_sample, bins=20, density=True)\n",
    "plt.xlabel(\"Number of Successes\")\n",
    "plt.ylabel(\"Probability Density\")\n",
    "plt.title(\"Histogram of Binomial Distribution with n=1000, p=0.4\")\n",
    "plt.show()"
   ]
  },
  {
   "cell_type": "code",
   "execution_count": null,
   "id": "8bf013fb-ec1a-47a1-a4a7-c66bad305b76",
   "metadata": {},
   "outputs": [],
   "source": []
  },
  {
   "cell_type": "markdown",
   "id": "8bafb3ab-b591-4d85-96de-1d977baab25c",
   "metadata": {},
   "source": [
    "6. Write a Python function to calculate the cumulative distribution function of a Poisson distribution\n",
    "with given mean at a given point."
   ]
  },
  {
   "cell_type": "code",
   "execution_count": 5,
   "id": "438b30b5-e0f0-41f2-9bcb-2400dfbbab16",
   "metadata": {},
   "outputs": [],
   "source": [
    "import math\n",
    "\n",
    "def poisson_cdf(x, mean):\n",
    "    \"\"\"\n",
    "    Calculates the cumulative distribution function (CDF) of a Poisson distribution at a given point.\n",
    "\n",
    "    :param x: The point at which to evaluate the CDF.\n",
    "    :param mean: The mean of the Poisson distribution.\n",
    "    :return: The CDF of the Poisson distribution at the given point.\n",
    "    \"\"\"\n",
    "    cdf = 0\n",
    "    for i in range(x + 1):\n",
    "        cdf += math.exp(-mean) * (mean ** i) / math.factorial(i)\n",
    "    return cdf"
   ]
  },
  {
   "cell_type": "code",
   "execution_count": 6,
   "id": "4bdda81a-0632-4072-bf65-f868338e59b8",
   "metadata": {},
   "outputs": [
    {
     "name": "stdout",
     "output_type": "stream",
     "text": [
      "0.42319008112684353\n"
     ]
    }
   ],
   "source": [
    "mean = 3\n",
    "x = 2\n",
    "cdf = poisson_cdf(x, mean)\n",
    "print(cdf)"
   ]
  },
  {
   "cell_type": "code",
   "execution_count": null,
   "id": "756b558d-0df9-48aa-a749-0fe6487321f8",
   "metadata": {},
   "outputs": [],
   "source": []
  },
  {
   "cell_type": "markdown",
   "id": "7b74168b-3e4a-4a86-b95f-03e5163f4313",
   "metadata": {},
   "source": [
    "7. How Binomial distribution different from Poisson distribution?"
   ]
  },
  {
   "cell_type": "markdown",
   "id": "2ccf8f26-ee48-4023-b6f7-432cd3a7866c",
   "metadata": {},
   "source": [
    "Binomial distribution and Poisson distribution are both used to model the probability of a certain number of events occurring. However, they differ in several ways:\n",
    "\n",
    "Nature of events: In binomial distribution, the number of events is fixed and the events are independent and have two possible outcomes (success or failure). In contrast, in Poisson distribution, the number of events is not fixed and the events are assumed to occur randomly and independently of each other.\n",
    "\n",
    "Mean and variance: The mean and variance of a binomial distribution depend on both the number of trials and the probability of success. In contrast, the mean and variance of a Poisson distribution depend only on the rate parameter, which is the expected number of events per unit time or space.\n",
    "\n",
    "Assumptions: Binomial distribution assumes a fixed number of trials, independent events, and a constant probability of success. Poisson distribution assumes that events occur randomly and independently of each other, with a constant rate of occurrence.\n",
    "\n",
    "Shape: The shape of the binomial distribution is generally bell-shaped, while the shape of the Poisson distribution is generally skewed to the right.\n",
    "\n",
    "Application: Binomial distribution is often used to model events with a fixed number of trials, such as coin tosses or the success rate of a product. Poisson distribution is often used to model the number of events occurring in a fixed period of time or space, such as the number of car accidents in a day or the number of particles emitted by a radioactive substance."
   ]
  },
  {
   "cell_type": "code",
   "execution_count": null,
   "id": "0aa30499-9bfc-45ce-a74e-285d4b4bc09f",
   "metadata": {},
   "outputs": [],
   "source": []
  },
  {
   "cell_type": "markdown",
   "id": "216aca39-8266-44d4-896e-33fd36df877b",
   "metadata": {},
   "source": [
    "8. Generate a random sample of size 1000 from a Poisson distribution with mean 5 and calculate the\n",
    "sample mean and variance."
   ]
  },
  {
   "cell_type": "code",
   "execution_count": 7,
   "id": "086e61d7-182c-4111-a249-ed0ddbab7ab6",
   "metadata": {},
   "outputs": [
    {
     "name": "stdout",
     "output_type": "stream",
     "text": [
      "Sample mean: 5.054\n",
      "Sample variance: 5.499084000000001\n"
     ]
    }
   ],
   "source": [
    "import numpy as np\n",
    "\n",
    "mean = 5\n",
    "sample_size = 1000\n",
    "\n",
    "poisson_sample = np.random.poisson(mean, size=sample_size)\n",
    "\n",
    "sample_mean = np.mean(poisson_sample)\n",
    "sample_var = np.var(poisson_sample)\n",
    "\n",
    "print(\"Sample mean:\", sample_mean)\n",
    "print(\"Sample variance:\", sample_var)"
   ]
  },
  {
   "cell_type": "code",
   "execution_count": null,
   "id": "05b21eb4-8a04-4991-8e5a-6700b32d41f8",
   "metadata": {},
   "outputs": [],
   "source": []
  },
  {
   "cell_type": "markdown",
   "id": "e2323f67-58cc-4aeb-bd70-37d0f4160a1d",
   "metadata": {},
   "source": [
    "9. How mean and variance are related in Binomial distribution and Poisson distribution?"
   ]
  },
  {
   "cell_type": "markdown",
   "id": "2104c160-4c2e-466b-95bc-2f8c6b8dcf4f",
   "metadata": {},
   "source": [
    "In both Binomial and Poisson distributions, the mean and variance are related, but the nature of the relationship is different.\n",
    "\n",
    "For a Binomial distribution, the mean is given by the formula mean = n * p, where n is the number of trials and p is the probability of success. The variance is given by the formula variance = n * p * (1 - p). Therefore, the variance is a function of both n and p. As n increases, the variance increases proportionally, while as p gets closer to 0 or 1, the variance gets smaller. So, the mean and variance of a Binomial distribution are directly related, with an increase in mean leading to an increase in variance.\n",
    "\n",
    "For a Poisson distribution, the mean and variance are both equal to the rate parameter λ, which is the expected number of events in a given time or space interval. That is, mean = variance = λ. So, the mean and variance of a Poisson distribution are equal, and any increase or decrease in the mean will also result in a proportional increase or decrease in the variance."
   ]
  },
  {
   "cell_type": "code",
   "execution_count": null,
   "id": "5ff60e87-e7f8-4240-924b-36e7b3ae14de",
   "metadata": {},
   "outputs": [],
   "source": []
  },
  {
   "cell_type": "markdown",
   "id": "8cf26c7d-dc0f-4370-b5d8-cdb3d0fe838d",
   "metadata": {},
   "source": [
    "10. In normal distribution with respect to mean position, where does the least frequent data appear?"
   ]
  },
  {
   "cell_type": "markdown",
   "id": "09c256ed-b036-4a13-8e62-d29a7e43ad37",
   "metadata": {},
   "source": [
    "In a normal distribution, the least frequent data appears in the tails of the distribution, which are the regions farthest away from the mean.\n",
    "\n",
    "Specifically, a normal distribution is symmetric around its mean, which means that half of the data falls on either side of the mean. As you move away from the mean towards the tails of the distribution, the frequency of data decreases. The point where the frequency is at its minimum is called the inflection point, which is located one standard deviation away from the mean on either side of the distribution.\n",
    "\n",
    "In other words, the least frequent data in a normal distribution appears at the points that are furthest away from the mean, which are the points in the tails of the distribution."
   ]
  },
  {
   "cell_type": "code",
   "execution_count": null,
   "id": "f06b5b08-6873-4db6-9930-29951afc1c27",
   "metadata": {},
   "outputs": [],
   "source": []
  },
  {
   "cell_type": "code",
   "execution_count": null,
   "id": "14eb9bbb-569b-4139-b14e-f5b75c92784d",
   "metadata": {},
   "outputs": [],
   "source": []
  },
  {
   "cell_type": "code",
   "execution_count": null,
   "id": "47ab724a-28a5-4f5d-a633-019dcc275064",
   "metadata": {},
   "outputs": [],
   "source": []
  }
 ],
 "metadata": {
  "kernelspec": {
   "display_name": "Python 3 (ipykernel)",
   "language": "python",
   "name": "python3"
  },
  "language_info": {
   "codemirror_mode": {
    "name": "ipython",
    "version": 3
   },
   "file_extension": ".py",
   "mimetype": "text/x-python",
   "name": "python",
   "nbconvert_exporter": "python",
   "pygments_lexer": "ipython3",
   "version": "3.10.8"
  }
 },
 "nbformat": 4,
 "nbformat_minor": 5
}
